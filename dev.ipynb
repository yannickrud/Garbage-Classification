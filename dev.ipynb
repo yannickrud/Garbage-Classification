{
 "cells": [
  {
   "cell_type": "code",
   "execution_count": 2,
   "metadata": {
    "collapsed": true,
    "pycharm": {
     "name": "#%%\n"
    }
   },
   "outputs": [],
   "source": [
    "import streamlit as st\n",
    "import os\n",
    "import pandas as pd\n",
    "from PIL import Image"
   ]
  },
  {
   "cell_type": "code",
   "execution_count": 3,
   "outputs": [],
   "source": [
    "dir = './dataSources/'\n",
    "labels = os.listdir(dir + '/Garbage classification/Garbage classification/')"
   ],
   "metadata": {
    "collapsed": false,
    "pycharm": {
     "name": "#%%\n"
    }
   }
  },
  {
   "cell_type": "code",
   "execution_count": 4,
   "outputs": [
    {
     "data": {
      "text/plain": "        Type  Samples\n0      paper      594\n1      metal      410\n2  cardboard      403\n3      trash      137\n4      glass      501\n5    plastic      482",
      "text/html": "<div>\n<style scoped>\n    .dataframe tbody tr th:only-of-type {\n        vertical-align: middle;\n    }\n\n    .dataframe tbody tr th {\n        vertical-align: top;\n    }\n\n    .dataframe thead th {\n        text-align: right;\n    }\n</style>\n<table border=\"1\" class=\"dataframe\">\n  <thead>\n    <tr style=\"text-align: right;\">\n      <th></th>\n      <th>Type</th>\n      <th>Samples</th>\n    </tr>\n  </thead>\n  <tbody>\n    <tr>\n      <th>0</th>\n      <td>paper</td>\n      <td>594</td>\n    </tr>\n    <tr>\n      <th>1</th>\n      <td>metal</td>\n      <td>410</td>\n    </tr>\n    <tr>\n      <th>2</th>\n      <td>cardboard</td>\n      <td>403</td>\n    </tr>\n    <tr>\n      <th>3</th>\n      <td>trash</td>\n      <td>137</td>\n    </tr>\n    <tr>\n      <th>4</th>\n      <td>glass</td>\n      <td>501</td>\n    </tr>\n    <tr>\n      <th>5</th>\n      <td>plastic</td>\n      <td>482</td>\n    </tr>\n  </tbody>\n</table>\n</div>"
     },
     "execution_count": 4,
     "metadata": {},
     "output_type": "execute_result"
    }
   ],
   "source": [
    "dicts = []\n",
    "\n",
    "for label in labels:\n",
    "    directory = os.path.join(dir + '/Garbage classification/Garbage classification/', label)\n",
    "    samples = os.listdir(directory)\n",
    "\n",
    "    x = {'Type': label, 'Samples': len(samples)}\n",
    "    dicts.append(x)\n",
    "\n",
    "\n",
    "df = pd.DataFrame.from_dict(dicts)\n",
    "df"
   ],
   "metadata": {
    "collapsed": false,
    "pycharm": {
     "name": "#%%\n"
    }
   }
  },
  {
   "cell_type": "markdown",
   "source": [],
   "metadata": {
    "collapsed": false,
    "pycharm": {
     "name": "#%% md\n"
    }
   }
  }
 ],
 "metadata": {
  "kernelspec": {
   "display_name": "Python 3",
   "language": "python",
   "name": "python3"
  },
  "language_info": {
   "codemirror_mode": {
    "name": "ipython",
    "version": 2
   },
   "file_extension": ".py",
   "mimetype": "text/x-python",
   "name": "python",
   "nbconvert_exporter": "python",
   "pygments_lexer": "ipython2",
   "version": "2.7.6"
  }
 },
 "nbformat": 4,
 "nbformat_minor": 0
}